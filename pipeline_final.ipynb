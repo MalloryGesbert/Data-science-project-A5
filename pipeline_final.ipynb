{
 "cells": [
  {
   "cell_type": "markdown",
   "id": "f1883acf",
   "metadata": {},
   "source": [
    "# Pipeline final pour l'entreprise **TouNum**\n",
    "\n",
    "L'entreprise TouNum travaille sur la numérisation de documents (textes, images...). Leurs services sont souvent requis par des entreprises numérisant leur base de documents papier. Ils souhaitent étendre leur gamme de services pour inclure des outils de Machine Learning. En effet, certains de leurs clients ont une grande quantité de données à numériser, et un service de catégorisation automatique serait plus que valorisable.\n",
    "\n",
    "Cette pipeline sert donc à remplir l'objectif de TouNum, pour cela elle est divisée en 3 grande partie :\n",
    "1. Classification d'image selon 5 catégories [Photo, Peinture, Schéma, Croquis, Texte]\n",
    "\n",
    "2. Débruitage des images classifiées \"Photo\", suppresion de 4 types de bruits : [Gaussian, Poisson, Speckles, Salt & pepper]\n",
    "   \n",
    "3. Génération des descriptions pour les photos débruitées.\n"
   ]
  },
  {
   "cell_type": "markdown",
   "id": "279a90b7",
   "metadata": {},
   "source": [
    "---\n",
    "## Dépendances\n",
    "\n",
    "Chargement des différentes dépendances nécessaires au bon fonctionnement de la pipeline, ainsi que de la configuration de la pipeline."
   ]
  },
  {
   "cell_type": "code",
   "execution_count": null,
   "id": "ca20c03a",
   "metadata": {},
   "outputs": [],
   "source": [
    "# Import des dépendances\n",
    "import os\n",
    "import sys\n",
    "\n",
    "\n",
    "\n",
    "import matplotlib.pyplot as plt\n",
    "import numpy as np\n",
    "import PIL\n",
    "import tensorflow as tf\n",
    "from collections import defaultdict\n",
    "import shutil\n",
    "import random\n",
    "import kaggle\n",
    "import requests\n",
    "from zipfile import ZipFile\n",
    "\n",
    "from tensorflow.keras.models import Sequential\n",
    "from tensorflow.keras.layers import Dense, Flatten, Dropout, Conv2D, MaxPooling2D\n",
    "from tensorflow.keras.optimizers import Adam\n",
    "from tensorflow import keras\n",
    "from tensorflow.keras import layers\n",
    "from tensorflow.keras.preprocessing.image import ImageDataGenerator\n",
    "from tensorflow.keras.utils import img_to_array, load_img\n",
    "\n",
    "\n",
    "# Ajouter le dossier courant au path si nécessaire pour accéder à notre librairies utils.py\n",
    "sys.path.append(os.getcwd())\n",
    "import utils"
   ]
  },
  {
   "cell_type": "code",
   "execution_count": null,
   "id": "2d293ed0",
   "metadata": {},
   "outputs": [],
   "source": [
    "# Configuration Principale\n",
    "datas_path = \"./datas\" # Dossier de stockage des données qui sont des images\n"
   ]
  },
  {
   "cell_type": "markdown",
   "id": "3fd34967",
   "metadata": {},
   "source": [
    "---\n",
    "## Partie 1 : Classification de photo (Livrable 1)\n",
    "\n",
    "Dans cette partie, nous allons charger notre modèle de classification d'images capable de distinguer entre 5 catégories : [Photo, Peinture, Schéma, Croquis, Texte]. \n",
    "\n",
    "Pour ce faire, nous allons suivre les étapes suivantes :\n",
    "1. Préparation des données : collecte, nettoyage et augmentation des données pour chaque catégorie.\n",
    "2. Chargement du modèle : utilisation d'un réseau de neurones convolutionnel (CNN) pour effectuer la classification.\n",
    "3. Classification des données réelles : Classification des images fournies par l'entreprise TouNum. \n",
    "4. Visualisation des résultats : Visualisations de plusieurs résultats de notre modèle.\n",
    "\n",
    "L'objectif est de fournir un modèle robuste et performant qui pourra être intégré dans la pipeline globale de l'entreprise."
   ]
  },
  {
   "cell_type": "markdown",
   "id": "48ae7ea2",
   "metadata": {},
   "source": [
    "### 1.1 Préparations des données\n",
    "Chargement et nettoyage de celle-ci."
   ]
  },
  {
   "cell_type": "code",
   "execution_count": null,
   "id": "1527735b",
   "metadata": {},
   "outputs": [],
   "source": [
    "# Chargement des données\n"
   ]
  },
  {
   "cell_type": "code",
   "execution_count": null,
   "id": "6bd5766b",
   "metadata": {},
   "outputs": [],
   "source": [
    "# Affichages des statistiques des images\n",
    "get_infos_datas(datas_path)"
   ]
  },
  {
   "cell_type": "code",
   "execution_count": null,
   "id": "2209c942",
   "metadata": {},
   "outputs": [],
   "source": [
    "# Affichage de quelques images\n",
    "display_random_images(datas_path)"
   ]
  },
  {
   "cell_type": "code",
   "execution_count": null,
   "id": "273b5be9",
   "metadata": {},
   "outputs": [],
   "source": [
    "# Nettoyage des données\n",
    "clean_images_dataset(datas_path)"
   ]
  },
  {
   "cell_type": "markdown",
   "id": "b6ce11e0",
   "metadata": {},
   "source": [
    "### 1.2 Chargement du modèle\n",
    "Chargement de notre modèle précèdement entrainé."
   ]
  },
  {
   "cell_type": "code",
   "execution_count": null,
   "id": "1dac0741",
   "metadata": {},
   "outputs": [],
   "source": [
    "# Chargement de notre modèle\n"
   ]
  },
  {
   "cell_type": "markdown",
   "id": "b58aa9d6",
   "metadata": {},
   "source": [
    "### 1.3 Classification des données\n",
    "Classification des images selon 5 catégories"
   ]
  },
  {
   "cell_type": "code",
   "execution_count": null,
   "id": "ef79c86f",
   "metadata": {},
   "outputs": [],
   "source": [
    "# Classification des images (stocker les images de types \"Photo\")\n"
   ]
  },
  {
   "cell_type": "markdown",
   "id": "6acd260d",
   "metadata": {},
   "source": [
    "### 1.4 Affichage de quelques résultats"
   ]
  },
  {
   "cell_type": "code",
   "execution_count": null,
   "id": "4a9c3a14",
   "metadata": {},
   "outputs": [],
   "source": []
  },
  {
   "cell_type": "markdown",
   "id": "6b2bff9e",
   "metadata": {},
   "source": [
    "---\n",
    "## Partie 2 : Débruitage de nos images (Livrable 2)\n",
    "\n",
    "Dans cette partie, nous allons utiliser notre modèle de débruitage d'images pour les images classifiées comme \"Photo\". L'objectif est de supprimer efficacement les bruits présents dans les images tout en préservant leurs détails importants. Les étapes suivantes seront suivies :\n",
    "\n",
    "1. Identification des types de bruits : analyse des images pour détecter les bruits de type [Gaussian, Poisson, Speckles, Salt & Pepper].\n",
    "2. Application de techniques de débruitage : utilisation de filtres adaptés (médian, gaussien, etc.) et de méthodes avancées comme les autoencodeurs pour réduire le bruit.\n",
    "3. Évaluation de la qualité des images débruitées : comparaison avec les images originales à l'aide de métriques telles que le PSNR (Peak Signal-to-Noise Ratio) et le SSIM (Structural Similarity Index).\n",
    "4. Validation sur des images réelles : test des méthodes sur des images fournies par l'entreprise TouNum pour garantir leur efficacité dans des scénarios pratiques.\n",
    "\n",
    "L'objectif est de fournir des images de haute qualité prêtes pour l'étape suivante de la pipeline."
   ]
  },
  {
   "cell_type": "markdown",
   "id": "8d124157",
   "metadata": {},
   "source": [
    "## Partie 3 : Captionning d'images (Livrable 3)\n",
    "\n",
    "......"
   ]
  }
 ],
 "metadata": {
  "kernelspec": {
   "display_name": ".venv",
   "language": "python",
   "name": "python3"
  },
  "language_info": {
   "codemirror_mode": {
    "name": "ipython",
    "version": 3
   },
   "file_extension": ".py",
   "mimetype": "text/x-python",
   "name": "python",
   "nbconvert_exporter": "python",
   "pygments_lexer": "ipython3",
   "version": "3.10.0"
  }
 },
 "nbformat": 4,
 "nbformat_minor": 5
}
