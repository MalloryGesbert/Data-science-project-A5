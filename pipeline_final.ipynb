{
 "cells": [
  {
   "cell_type": "markdown",
   "id": "f1883acf",
   "metadata": {},
   "source": [
    "# Pipeline final pour l'entreprise **TouNum**\n",
    "\n",
    "L'entreprise TouNum travaille sur la numérisation de documents (textes, images...). Leurs services sont souvent requis par des entreprises numérisant leur base de documents papier. Ils souhaitent étendre leur gamme de services pour inclure des outils de Machine Learning. En effet, certains de leurs clients ont une grande quantité de données à numériser, et un service de catégorisation automatique serait plus que valorisable.\n",
    "\n",
    "Cette pipeline sert donc à remplir l'objectif de TouNum, pour cela elle est divisée en 3 grande partie :\n",
    "1. Classification d'image selon 5 catégories [Photo, Peinture, Schéma, Croquis, Texte]\n",
    "\n",
    "2. Débruitage des images classifiées \"Photo\", suppresion de 4 types de bruits : [Gaussian, Poisson, Speckles, Salt & pepper]\n",
    "   \n",
    "3. Génération des descriptions pour les photos débruitées.\n",
    "\n",
    "Format des données d'entrées attendues :\n",
    "- **Chemin des données d'entrée :** `datas_path` (actuellement défini comme `./Dataset/test_final`)\n",
    "- **Exemple de fichiers attendus dans le dossier :**\n",
    "    - `datas_path/img01.png`\n",
    "    - `datas_path/img02.jpg`\n",
    "    - ...\n"
   ]
  },
  {
   "cell_type": "markdown",
   "id": "279a90b7",
   "metadata": {},
   "source": [
    "---\n",
    "## Dépendances\n",
    "\n",
    "Chargement des différentes dépendances nécessaires au bon fonctionnement de la pipeline, ainsi que de la configuration de la pipeline."
   ]
  },
  {
   "cell_type": "code",
   "execution_count": null,
   "id": "ca20c03a",
   "metadata": {},
   "outputs": [],
   "source": [
    "# Import des dépendances\n",
    "import os\n",
    "import sys\n",
    "\n",
    "# Ajouter le dossier courant au path si nécessaire pour accéder à notre librairies utils.py\n",
    "sys.path.append(os.getcwd())\n",
    "import utils"
   ]
  },
  {
   "cell_type": "code",
   "execution_count": null,
   "id": "2d293ed0",
   "metadata": {},
   "outputs": [],
   "source": [
    "# Configuration Principale\n",
    "datas_path = \"./Dataset/test_final\" # Dossier de stockage des données qui sont des images\n",
    "autoencoder_weights_path = \"./checkpoints/modelgeneric_epoch21_valLoss0.0758.h5\" # Chemin du stockage des poids de l'autoencoder\n"
   ]
  },
  {
   "cell_type": "markdown",
   "id": "3fd34967",
   "metadata": {},
   "source": [
    "---\n",
    "## Partie 1 : Classification de photo (Livrable 1)\n",
    "\n",
    "Dans cette partie, nous allons charger notre modèle de classification d'images capable de distinguer entre 5 catégories : [Photo, Peinture, Schéma, Croquis, Texte]. \n",
    "\n",
    "Pour ce faire, nous allons suivre les étapes suivantes :\n",
    "1. Préparation des données : collecte, nettoyage et augmentation des données pour chaque catégorie.\n",
    "2. Chargement du modèle : utilisation d'un réseau de neurones convolutionnel (CNN) pour effectuer la classification.\n",
    "3. Classification des données réelles : Classification des images fournies par l'entreprise TouNum. \n",
    "4. Visualisation des résultats : Visualisations de plusieurs résultats de notre modèle.\n",
    "\n",
    "L'objectif est de fournir un modèle robuste et performant qui pourra être intégré dans la pipeline globale de l'entreprise."
   ]
  },
  {
   "cell_type": "markdown",
   "id": "48ae7ea2",
   "metadata": {},
   "source": [
    "### 1.1 Préparations des données\n",
    "Chargement et nettoyage de celle-ci."
   ]
  },
  {
   "cell_type": "code",
   "execution_count": null,
   "id": "1527735b",
   "metadata": {},
   "outputs": [],
   "source": [
    "# # A SUPPRIMER AAVNT DE METTRE EN PROD\n",
    "\n",
    "\n",
    "# # Chargement des données \n",
    "# import os\n",
    "# import shutil\n",
    "# import random\n",
    "\n",
    "# # === CONFIGURATION ===\n",
    "# X = 1000  # Nombre total d'images à copier (modifie selon ton besoin)\n",
    "# source_base = \"./Dataset/Dataset1\"\n",
    "# target_dir = \"./Dataset/test_final\"\n",
    "\n",
    "# # Extensions autorisées (images)\n",
    "# allowed_extensions = {\".jpg\", \".jpeg\", \".png\", \".bmp\", \".tiff\", \".gif\"}\n",
    "\n",
    "# # Créer le dossier cible s’il n’existe pas\n",
    "# os.makedirs(target_dir, exist_ok=True)\n",
    "\n",
    "# # Récupération de toutes les images valides dans les sous-dossiers\n",
    "# all_images = []\n",
    "# for folder in [\"Photo\", \"Painting\", \"Sketch\", \"Text\", \"Schematics\"]:\n",
    "#     folder_path = os.path.join(source_base, folder)\n",
    "#     for filename in os.listdir(folder_path):\n",
    "#         if any(filename.lower().endswith(ext) for ext in allowed_extensions):\n",
    "#             full_path = os.path.join(folder_path, filename)\n",
    "#             all_images.append(full_path)\n",
    "\n",
    "# # Vérification que X n'est pas trop grand\n",
    "# if X > len(all_images):\n",
    "#     raise ValueError(f\"Trop d’images demandées ({X}), seulement {len(all_images)} disponibles.\")\n",
    "\n",
    "# # Sélection aléatoire sans doublons\n",
    "# selected_images = random.sample(all_images, X)\n",
    "\n",
    "# # Copie des fichiers\n",
    "# for img_path in selected_images:\n",
    "#     filename = os.path.basename(img_path)\n",
    "#     dest_path = os.path.join(target_dir, filename)\n",
    "    \n",
    "#     # Pour éviter les doublons de nom de fichier, on peut renommer si nécessaire\n",
    "#     if os.path.exists(dest_path):\n",
    "#         name, ext = os.path.splitext(filename)\n",
    "#         count = 1\n",
    "#         while os.path.exists(dest_path):\n",
    "#             filename = f\"{name}_{count}{ext}\"\n",
    "#             dest_path = os.path.join(target_dir, filename)\n",
    "#             count += 1\n",
    "\n",
    "#     shutil.copy(img_path, dest_path)\n",
    "\n",
    "# print(f\"✅ {X} images copiées dans {target_dir}\")\n"
   ]
  },
  {
   "cell_type": "code",
   "execution_count": null,
   "id": "6bd5766b",
   "metadata": {},
   "outputs": [],
   "source": [
    "# Affichages des statistiques des images\n",
    "images_count = utils.get_infos_datas(datas_path)"
   ]
  },
  {
   "cell_type": "code",
   "execution_count": null,
   "id": "2209c942",
   "metadata": {},
   "outputs": [],
   "source": [
    "# Affichage de quelques images\n",
    "utils.display_random_images(datas_path,5)"
   ]
  },
  {
   "cell_type": "code",
   "execution_count": null,
   "id": "273b5be9",
   "metadata": {},
   "outputs": [],
   "source": [
    "# Nettoyage des données\n",
    "# utils.clean_images_dataset(datas_path)"
   ]
  },
  {
   "cell_type": "code",
   "execution_count": null,
   "id": "6a662fc3",
   "metadata": {},
   "outputs": [],
   "source": [
    "# Redimensionnement des images en 256, 256\n",
    "# utils.resize_images_dataset(datas_path, (256, 256))\n",
    "\n",
    "# Affichage de quelques images après redimensionnement\n",
    "utils.display_random_images(datas_path,5)\n"
   ]
  },
  {
   "cell_type": "markdown",
   "id": "b6ce11e0",
   "metadata": {},
   "source": [
    "### 1.2 Chargement du modèle\n",
    "Chargement de notre modèle précèdement entrainé."
   ]
  },
  {
   "cell_type": "code",
   "execution_count": null,
   "id": "1dac0741",
   "metadata": {},
   "outputs": [],
   "source": [
    "# Chargement de notre modèle le plus performant ()\n",
    "model = utils.load_model(\"./Backup model/Livrable 1/model_Categorical_modified2.h5\")"
   ]
  },
  {
   "cell_type": "markdown",
   "id": "b58aa9d6",
   "metadata": {},
   "source": [
    "### 1.3 Classification des données\n",
    "Classification des images selon les 5 catégories ()"
   ]
  },
  {
   "cell_type": "code",
   "execution_count": null,
   "id": "ef79c86f",
   "metadata": {},
   "outputs": [],
   "source": [
    "# Classification des images (stocker les images de types \"Photo\")\n",
    "list_photos = utils.get_predicted_photos(model, datas_path)"
   ]
  },
  {
   "cell_type": "markdown",
   "id": "6acd260d",
   "metadata": {},
   "source": [
    "### 1.4 Affichage de quelques résultats"
   ]
  },
  {
   "cell_type": "code",
   "execution_count": null,
   "id": "4a9c3a14",
   "metadata": {},
   "outputs": [],
   "source": [
    "# Affichage de quelques images après classification\n",
    "utils.display_images_with_predictions(model, datas_path, 5)"
   ]
  },
  {
   "cell_type": "markdown",
   "id": "6b2bff9e",
   "metadata": {},
   "source": [
    "---\n",
    "## Partie 2 : Débruitage de nos images (Livrable 2)\n",
    "\n",
    "Dans cette partie, nous allons utiliser notre modèle de débruitage d'images pour les images classifiées comme \"Photo\". L'objectif est de supprimer efficacement les bruits présents dans les images tout en préservant leurs détails importants. Les étapes suivantes seront suivies :\n",
    "\n",
    "1. Chargment de notre autoencoder : chargemnt de notre autoencoder le plus performant. \n",
    "2. Débruitage de nos images : débruitages des images catégorisées photos, grâce à notre model de classification.\n",
    "3. Visualtion des résulats : affichage d'échantillons de nos images débruitées.\n",
    "\n",
    "L'objectif est de fournir des images de haute qualité prêtes pour l'étape suivante de la pipeline."
   ]
  },
  {
   "cell_type": "markdown",
   "id": "6c8f1784",
   "metadata": {},
   "source": [
    "### 2.1 Chargement de l'autoencoder\n",
    "On charge notre autoencoder le plus performant. (générique)"
   ]
  },
  {
   "cell_type": "code",
   "execution_count": null,
   "id": "9e87d0c8",
   "metadata": {},
   "outputs": [],
   "source": [
    "autoencoder = utils.load_autoencoder(autoencoder_weights_path)"
   ]
  },
  {
   "cell_type": "markdown",
   "id": "90485e6d",
   "metadata": {},
   "source": [
    "### 2.2 Débruitage des images"
   ]
  },
  {
   "cell_type": "code",
   "execution_count": null,
   "id": "c2a9b9f2",
   "metadata": {},
   "outputs": [],
   "source": [
    "# Charger les images à partir des chemins\n",
    "loaded_images = utils.load_images_from_paths(list_photos)\n",
    "loaded_images = utils.resize_images(loaded_images, (256, 256))\n",
    "loaded_images = utils.preprocess_data(loaded_images)\n",
    "\n",
    "images_denoised = utils.denoise_images(autoencoder, loaded_images)"
   ]
  },
  {
   "cell_type": "markdown",
   "id": "6d2f11a8",
   "metadata": {},
   "source": [
    "### 2.3 Résultats de débruitage\n",
    "Affichage d'échantillons d'images denoised"
   ]
  },
  {
   "cell_type": "code",
   "execution_count": null,
   "id": "32967985",
   "metadata": {},
   "outputs": [],
   "source": [
    "utils.plot_denoised_examples(loaded_images, images_denoised)"
   ]
  },
  {
   "cell_type": "markdown",
   "id": "8d124157",
   "metadata": {},
   "source": [
    "## Partie 3 : Captionning d'images (Livrable 3)\n",
    "Dans cette partie, nous allons utiliser un modèle de génération de descriptions (captionning) pour les images débruitées. L'objectif est de produire des descriptions textuelles pertinentes pour chaque image, facilitant ainsi leur compréhension et leur utilisation. Les étapes suivantes seront suivies :\n",
    "\n",
    "1. Chargement du modèle de captionning : utilisation d'un modèle pré-entraîné pour la génération de descriptions.\n",
    "2. Génération des descriptions : application du modèle sur les images débruitées pour produire des descriptions textuelles.\n",
    "3. Visualisation des résultats : affichage des descriptions générées pour un échantillon d'images."
   ]
  },
  {
   "cell_type": "markdown",
   "id": "42ce2b04",
   "metadata": {},
   "source": [
    "### 3.1 Chargement du modèle de captionning"
   ]
  },
  {
   "cell_type": "code",
   "execution_count": null,
   "id": "4578cf07",
   "metadata": {},
   "outputs": [],
   "source": []
  },
  {
   "cell_type": "markdown",
   "id": "6e86ac88",
   "metadata": {},
   "source": [
    "### 3.2 Captionning des images\n",
    "Ajout d'une descriptions pour les images"
   ]
  },
  {
   "cell_type": "code",
   "execution_count": null,
   "id": "ebb470b5",
   "metadata": {},
   "outputs": [],
   "source": []
  },
  {
   "cell_type": "markdown",
   "id": "d1b1822e",
   "metadata": {},
   "source": [
    "### 3.3 Résultats du captionning\n",
    "Affichage des descriptions générées pour les images."
   ]
  },
  {
   "cell_type": "code",
   "execution_count": null,
   "id": "e5bdec5e",
   "metadata": {},
   "outputs": [],
   "source": []
  }
 ],
 "metadata": {
  "kernelspec": {
   "display_name": ".venv",
   "language": "python",
   "name": "python3"
  },
  "language_info": {
   "codemirror_mode": {
    "name": "ipython",
    "version": 3
   },
   "file_extension": ".py",
   "mimetype": "text/x-python",
   "name": "python",
   "nbconvert_exporter": "python",
   "pygments_lexer": "ipython3",
   "version": "3.10.0"
  }
 },
 "nbformat": 4,
 "nbformat_minor": 5
}
