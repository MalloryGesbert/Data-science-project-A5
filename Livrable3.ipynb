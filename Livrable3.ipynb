{
 "cells": [
  {
   "cell_type": "markdown",
   "metadata": {},
   "source": [
    "# Analyse des données"
   ]
  },
  {
   "cell_type": "markdown",
   "metadata": {},
   "source": [
    "## Livrable 1"
   ]
  },
  {
   "cell_type": "markdown",
   "metadata": {},
   "source": [
    "Blablabla"
   ]
  },
  {
   "cell_type": "markdown",
   "metadata": {},
   "source": [
    "## Livrable 2 "
   ]
  },
  {
   "cell_type": "markdown",
   "metadata": {},
   "source": [
    "Blablabla "
   ]
  },
  {
   "cell_type": "markdown",
   "metadata": {},
   "source": [
    "## Analyse du contenue de l'image \n"
   ]
  },
  {
   "cell_type": "code",
   "execution_count": null,
   "metadata": {},
   "outputs": [],
   "source": [
    "# Analyse des image Dataset 1\n",
    "# Exit .json file\n",
    "# {name, path, desc}\n",
    "\n",
    "def analyse_json(json_file):\n",
    "    \"\"\"\n",
    "    Analyse the json file and return a list of dictionaries with the image name, path and description.\n",
    "    :param json_file: The json file to analyse.\n",
    "    :return: A list of dictionaries with the image name, path and description.\n",
    "    \"\"\"\n",
    "    import json\n",
    "    import os\n",
    "\n",
    "    # Load the json file\n",
    "    with open(json_file, 'r') as f:\n",
    "        data = json.load(f)\n",
    "\n",
    "    # Create a list of dictionaries with the image name, path and description\n",
    "    images = []\n",
    "    for image in data:\n",
    "        images.append({\n",
    "            'name': image['name'],\n",
    "            'path': os.path.join(image['path'], image['name']),\n",
    "            'desc': image['desc']\n",
    "        })\n",
    "\n",
    "    return images"
   ]
  },
  {
   "cell_type": "markdown",
   "metadata": {},
   "source": [
    "# Pipeline Captioning"
   ]
  },
  {
   "cell_type": "code",
   "execution_count": null,
   "metadata": {},
   "outputs": [],
   "source": [
    "# Utyliisation de l'analyse d'images pour extraire des informations sur les images\n",
    "\n",
    "def load_images(json_file):\n",
    "    \"\"\"\n",
    "    Load the images from the json file and return a list of dictionaries with the image name, path and description.\n",
    "    :param json_file: The json file to load.\n",
    "    :return: A list of dictionaries with the image name, path and description.\n",
    "    \"\"\"\n",
    "    images = analyse_json(json_file)\n",
    "    return images\n",
    "\n",
    "def captionning(images):\n",
    "    \"\"\"\n",
    "    Generate captions for the images.\n",
    "    :param images: The list of dictionaries with the image name, path and description.\n",
    "    :return: A list of dictionaries with the image name, path and caption.\n",
    "    \"\"\"\n",
    "    captions = []\n",
    "    for image in images:\n",
    "        captions.append({\n",
    "            'name': image['name'],\n",
    "            'path': image['path'],\n",
    "            'caption': image['desc']\n",
    "        })\n",
    "    return captions"
   ]
  }
 ],
 "metadata": {
  "kernelspec": {
   "display_name": ".venv",
   "language": "python",
   "name": "python3"
  },
  "language_info": {
   "name": "python",
   "version": "3.10.0"
  }
 },
 "nbformat": 4,
 "nbformat_minor": 2
}
